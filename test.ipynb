{
 "cells": [
  {
   "cell_type": "code",
   "execution_count": null,
   "id": "6d49dd85",
   "metadata": {},
   "outputs": [],
   "source": [
    "from pykrx import stock\n",
    "import time"
   ]
  },
  {
   "cell_type": "code",
   "execution_count": null,
   "id": "3385b1c6",
   "metadata": {},
   "outputs": [],
   "source": [
    "def krx_save(market: str = \"KOSPI\", cnt = 0) -> str:\n",
    "    tickers = stock.get_market_ticker_list(market=market)\n",
    "    break_cnt = cnt + 100\n",
    "    tickers = tickers[cnt : break_cnt]\n",
    "    for ticker in tickers:\n",
    "        # ticker_name은 파일의 이름으로 사용\n",
    "        ticker_name = stock.get_market_ticker_name(ticker)\n",
    "        df = stock.get_market_ohlcv_by_date(\"20240601\", \"20250625\", ticker)\n",
    "        df.reset_index(inplace=True)\n",
    "        df.rename(\n",
    "            columns = {\n",
    "                \"날짜\" : \"Date\", \n",
    "                '시가' : 'Open', \n",
    "                '종가' : 'Close', \n",
    "                '고가' : 'High', \n",
    "                '저가' : 'Low', \n",
    "                '거래량' : 'Volume', \n",
    "                '등락률' : 'Rate'\n",
    "            }\n",
    "        )\n",
    "        df.to_csv(f\"csv/{ticker_name}.csv\", index=False)\n",
    "        time.sleep(5)\n",
    "        "
   ]
  },
  {
   "cell_type": "code",
   "execution_count": null,
   "id": "a5c45649",
   "metadata": {},
   "outputs": [],
   "source": []
  }
 ],
 "metadata": {
  "kernelspec": {
   "display_name": "Python 3",
   "language": "python",
   "name": "python3"
  },
  "language_info": {
   "codemirror_mode": {
    "name": "ipython",
    "version": 3
   },
   "file_extension": ".py",
   "mimetype": "text/x-python",
   "name": "python",
   "nbconvert_exporter": "python",
   "pygments_lexer": "ipython3",
   "version": "3.11.8"
  }
 },
 "nbformat": 4,
 "nbformat_minor": 5
}
